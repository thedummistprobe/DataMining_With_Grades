{
 "cells": [
  {
   "cell_type": "code",
   "execution_count": 93,
   "id": "7a5160eb",
   "metadata": {},
   "outputs": [],
   "source": [
    "# Python ≥3.5 is required\n",
    "import sys\n",
    "assert sys.version_info >= (3, 5)\n",
    "\n",
    "# Scikit-Learn ≥0.20 is required\n",
    "import sklearn\n",
    "assert sklearn.__version__ >= \"0.20\"\n",
    "\n",
    "# Common imports\n",
    "import numpy as np\n",
    "import pandas as pd\n",
    "import os\n",
    "\n",
    "# To plot pretty figures\n",
    "%matplotlib inline\n",
    "import matplotlib as mpl\n",
    "import matplotlib.pyplot as plt\n",
    "mpl.rc('axes', labelsize=14)\n",
    "mpl.rc('xtick', labelsize=12)\n",
    "mpl.rc('ytick', labelsize=12)\n",
    "\n",
    "# Where to save the figures\n",
    "PROJECT_ROOT_DIR = \".\"\n",
    "CHAPTER_ID = \"training_linear_models\"\n",
    "IMAGES_PATH = os.path.join(PROJECT_ROOT_DIR, \"images\", CHAPTER_ID)\n",
    "os.makedirs(IMAGES_PATH, exist_ok=True)\n",
    "\n",
    "def save_fig(fig_id, tight_layout=True, fig_extension=\"png\", resolution=300):\n",
    "    path = os.path.join(IMAGES_PATH, fig_id + \".\" + fig_extension)\n",
    "    print(\"Saving figure\", fig_id)\n",
    "    if tight_layout:\n",
    "        plt.tight_layout()\n",
    "    plt.savefig(path, format=fig_extension, dpi=resolution)"
   ]
  },
  {
   "cell_type": "code",
   "execution_count": 94,
   "id": "62195662",
   "metadata": {},
   "outputs": [],
   "source": [
    "\n",
    "#read csv file\n",
    "df = pd.read_csv('exams.csv')\n",
    " \n",
    "#replacing values in gender category\n",
    "df['gender'].replace(['male', 'female'],\n",
    "                        [0, 1], inplace=True)\n",
    "\n",
    "#replacing values in race/ethnicity category\n",
    "df['race/ethnicity'].replace(['group A', 'group B', 'group C', 'group D', 'group E'],\n",
    "                        [0, 1, 2, 3, 4], inplace=True)\n",
    "\n",
    "#replacing values in parental level of education category\n",
    "df['parental level of education'].replace(['some high school', 'high school', 'some college', \"associate's degree\", \n",
    "                                  \"bachelor's degree\", \"master's degree\"],\n",
    "                        [0, 1, 2, 3, 4, 5], inplace=True)\n",
    "\n",
    "#replacing values in lunch category\n",
    "df['lunch'].replace(['standard', 'free/reduced'],\n",
    "                        [0, 1], inplace=True)\n",
    "\n",
    "#replacing values in test preparation course category\n",
    "df['test preparation course'].replace(['completed', 'none'],\n",
    "                        [0, 1], inplace=True)\n",
    "Y = df[['gender', 'race/ethnicity', 'parental level of education', 'lunch', 'test preparation course'] ]\n",
    "X = df[['reading score', 'writing score', 'math score']]\n",
    "m=np.size(Y, axis=0)"
   ]
  },
  {
   "cell_type": "code",
   "execution_count": 95,
   "id": "8b88b334",
   "metadata": {},
   "outputs": [],
   "source": [
    "mu = X.mean()\n",
    "std = X.std()"
   ]
  },
  {
   "cell_type": "code",
   "execution_count": 96,
   "id": "edb01165",
   "metadata": {},
   "outputs": [],
   "source": [
    "X=(X-mu)/std"
   ]
  },
  {
   "cell_type": "code",
   "execution_count": 97,
   "id": "6fa26239",
   "metadata": {},
   "outputs": [
    {
     "name": "stdout",
     "output_type": "stream",
     "text": [
      "     reading score  writing score  math score\n",
      "0        -0.135846      -0.303699    0.039213\n",
      "1        -0.678687      -0.816487   -1.713706\n",
      "2        -0.610832      -1.136979   -0.480170\n",
      "3         0.610561       0.016794    0.688443\n",
      "4         0.271285       0.016794    0.753366\n",
      "..             ...            ...         ...\n",
      "995       0.067719      -0.175502    0.428751\n",
      "996       1.492678       1.555158    1.207827\n",
      "997      -2.307211      -1.713866   -2.233090\n",
      "998       0.339140       0.914173    0.428751\n",
      "999      -0.610832      -0.367797   -0.090632\n",
      "\n",
      "[1000 rows x 3 columns]\n"
     ]
    }
   ],
   "source": [
    "#X.insert(0, \"Intercepts\", np.ones(m))\n",
    "print(X)"
   ]
  },
  {
   "cell_type": "code",
   "execution_count": 98,
   "id": "ecbfc338",
   "metadata": {},
   "outputs": [
    {
     "data": {
      "text/plain": [
       "array([[ 0.07215698, -0.15814861, -0.60453375,  0.19224924,  0.23738655],\n",
       "       [ 0.52150988,  0.01035824,  0.86296016, -0.18490721, -0.45958361],\n",
       "       [-0.57985704,  0.36261952,  0.14325263, -0.18694805,  0.10424608]])"
      ]
     },
     "execution_count": 98,
     "metadata": {},
     "output_type": "execute_result"
    }
   ],
   "source": [
    "theta_best = np.linalg.inv(X.T.dot(X)).dot(X.T).dot(Y)\n",
    "theta_best"
   ]
  },
  {
   "cell_type": "code",
   "execution_count": 99,
   "id": "ffa2fb58",
   "metadata": {},
   "outputs": [
    {
     "name": "stdout",
     "output_type": "stream",
     "text": [
      "[-0.69052538  1.39482828 -0.07398488]\n"
     ]
    }
   ],
   "source": [
    "grades = np.dot(theta_best,[1,1,1,0,0])# x values needed\n",
    "print(grades)"
   ]
  },
  {
   "cell_type": "code",
   "execution_count": null,
   "id": "78b1e46f",
   "metadata": {},
   "outputs": [],
   "source": []
  }
 ],
 "metadata": {
  "kernelspec": {
   "display_name": "Python 3 (ipykernel)",
   "language": "python",
   "name": "python3"
  },
  "language_info": {
   "codemirror_mode": {
    "name": "ipython",
    "version": 3
   },
   "file_extension": ".py",
   "mimetype": "text/x-python",
   "name": "python",
   "nbconvert_exporter": "python",
   "pygments_lexer": "ipython3",
   "version": "3.9.12"
  }
 },
 "nbformat": 4,
 "nbformat_minor": 5
}
