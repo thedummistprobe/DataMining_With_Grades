{
 "cells": [
  {
   "cell_type": "code",
   "execution_count": 14,
   "id": "63b4af70",
   "metadata": {},
   "outputs": [
    {
     "name": "stdout",
     "output_type": "stream",
     "text": [
      "     gender  race/ethnicity  parental level of education  lunch  \\\n",
      "0         0               0                            1      0   \n",
      "1         1               3                            0      1   \n",
      "2         0               4                            2      1   \n",
      "3         0               1                            1      0   \n",
      "4         0               4                            3      0   \n",
      "..      ...             ...                          ...    ...   \n",
      "995       0               2                            1      0   \n",
      "996       0               3                            3      1   \n",
      "997       1               2                            0      1   \n",
      "998       1               2                            2      0   \n",
      "999       0               0                            2      0   \n",
      "\n",
      "     test preparation course  math score  reading score  writing score  \n",
      "0                          0          67             67             63  \n",
      "1                          1          40             59             55  \n",
      "2                          1          59             60             50  \n",
      "3                          1          77             78             68  \n",
      "4                          0          78             73             68  \n",
      "..                       ...         ...            ...            ...  \n",
      "995                        1          73             70             65  \n",
      "996                        0          85             91             92  \n",
      "997                        1          32             35             41  \n",
      "998                        1          73             74             82  \n",
      "999                        0          65             60             62  \n",
      "\n",
      "[1000 rows x 8 columns]\n"
     ]
    }
   ],
   "source": [
    "#import pandas\n",
    "import pandas as pd\n",
    " \n",
    "#read csv file\n",
    "df = pd.read_csv('exams.csv')\n",
    " \n",
    "#replacing values in gender category\n",
    "df['gender'].replace(['male', 'female'],\n",
    "                        [0, 1], inplace=True)\n",
    "\n",
    "#replacing values in race/ethnicity category\n",
    "df['race/ethnicity'].replace(['group A', 'group B', 'group C', 'group D', 'group E'],\n",
    "                        [0, 1, 2, 3, 4], inplace=True)\n",
    "\n",
    "#replacing values in parental level of education category\n",
    "df['parental level of education'].replace(['some high school', 'high school', 'some college', \"associate's degree\", \n",
    "                                  \"bachelor's degree\", \"master's degree\"],\n",
    "                        [0, 1, 2, 3, 4, 5], inplace=True)\n",
    "\n",
    "#replacing values in lunch category\n",
    "df['lunch'].replace(['standard', 'free/reduced'],\n",
    "                        [0, 1], inplace=True)\n",
    "\n",
    "#replacing values in test preparation course category\n",
    "df['test preparation course'].replace(['completed', 'none'],\n",
    "                        [0, 1], inplace=True)\n",
    "print(df)"
   ]
  },
  {
   "cell_type": "code",
   "execution_count": null,
   "id": "cea64720",
   "metadata": {},
   "outputs": [],
   "source": []
  }
 ],
 "metadata": {
  "kernelspec": {
   "display_name": "Python 3 (ipykernel)",
   "language": "python",
   "name": "python3"
  },
  "language_info": {
   "codemirror_mode": {
    "name": "ipython",
    "version": 3
   },
   "file_extension": ".py",
   "mimetype": "text/x-python",
   "name": "python",
   "nbconvert_exporter": "python",
   "pygments_lexer": "ipython3",
   "version": "3.9.7"
  }
 },
 "nbformat": 4,
 "nbformat_minor": 5
}
